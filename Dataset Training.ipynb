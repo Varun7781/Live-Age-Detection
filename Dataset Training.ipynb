{
 "cells": [
  {
   "cell_type": "code",
   "execution_count": 47,
   "id": "a83a77f3",
   "metadata": {},
   "outputs": [],
   "source": [
    "import os\n",
    "import pandas as pd\n",
    "import sklearn\n",
    "import numpy as np\n",
    "import seaborn as sns\n",
    "import matplotlib.pyplot as plt\n",
    "%matplotlib inline\n",
    "from sklearn import linear_model\n",
    "from sklearn.model_selection import train_test_split\n",
    "from sklearn.linear_model import LogisticRegression\n",
    "import tensorflow as tf"
   ]
  },
  {
   "cell_type": "code",
   "execution_count": 34,
   "id": "5dba93f1",
   "metadata": {},
   "outputs": [],
   "source": [
    "os.chdir= ('C:\\\\Users\\\\Varun\\\\Desktop\\\\MINI PROJECT')\n",
    "os.chdir= ('C:\\\\Users\\\\Varun\\\\Desktop\\\\MINI PROJECT\\\\Train')"
   ]
  },
  {
   "cell_type": "code",
   "execution_count": 35,
   "id": "fd452fa0",
   "metadata": {},
   "outputs": [],
   "source": [
    "dataset = pd.read_csv('model1.csv')"
   ]
  },
  {
   "cell_type": "code",
   "execution_count": 36,
   "id": "895247be",
   "metadata": {},
   "outputs": [
    {
     "name": "stdout",
     "output_type": "stream",
     "text": [
      "           ID   Class\n",
      "0     377.jpg  MIDDLE\n",
      "1   17814.jpg   YOUNG\n",
      "2   21283.jpg  MIDDLE\n",
      "3   16496.jpg   YOUNG\n",
      "4    4487.jpg  MIDDLE\n",
      "5    6283.jpg  MIDDLE\n",
      "6   23495.jpg   YOUNG\n",
      "7    7100.jpg   YOUNG\n",
      "8    6028.jpg   YOUNG\n",
      "9   22617.jpg     OLD\n",
      "10  11177.jpg   YOUNG\n",
      "11   2462.jpg  MIDDLE\n",
      "12  24116.jpg  MIDDLE\n",
      "13  17689.jpg  MIDDLE\n",
      "14    728.jpg  MIDDLE\n",
      "15   3003.jpg  MIDDLE\n",
      "16  14408.jpg     OLD\n",
      "17   6679.jpg   YOUNG\n",
      "18  15152.jpg     OLD\n",
      "19  24784.jpg  MIDDLE\n",
      "20   9970.jpg   YOUNG\n",
      "21  22550.jpg     OLD\n",
      "22    150.jpg   YOUNG\n",
      "23   7379.jpg  MIDDLE\n",
      "24  15387.jpg  MIDDLE\n",
      "25   2336.jpg   YOUNG\n",
      "26   9603.jpg  MIDDLE\n",
      "27   4025.jpg     OLD\n",
      "28  17696.jpg  MIDDLE\n",
      "29  17552.jpg   YOUNG\n",
      "30   5345.jpg   YOUNG\n",
      "31  19129.jpg   YOUNG\n",
      "32  14286.jpg  MIDDLE\n",
      "33  18235.jpg  MIDDLE\n",
      "34  20499.jpg  MIDDLE\n",
      "35   2728.jpg   YOUNG\n",
      "36   5171.jpg  MIDDLE\n",
      "37  25205.jpg  MIDDLE\n",
      "38  12263.jpg  MIDDLE\n",
      "39  25467.jpg   YOUNG\n",
      "40   2132.jpg  MIDDLE\n",
      "41  12677.jpg   YOUNG\n",
      "42   9527.jpg  MIDDLE\n",
      "43  19846.jpg  MIDDLE\n",
      "44   1943.jpg     OLD\n",
      "45   4639.jpg  MIDDLE\n",
      "46  20686.jpg   YOUNG\n",
      "47   2412.jpg  MIDDLE\n",
      "48   3512.jpg  MIDDLE\n",
      "49  22350.jpg   YOUNG\n"
     ]
    }
   ],
   "source": [
    "print(dataset.head(50))"
   ]
  },
  {
   "cell_type": "code",
   "execution_count": 37,
   "id": "c5e25357",
   "metadata": {},
   "outputs": [
    {
     "name": "stdout",
     "output_type": "stream",
     "text": [
      "             ID   Class\n",
      "count     19906   19906\n",
      "unique    19906       3\n",
      "top     377.jpg  MIDDLE\n",
      "freq          1   10804\n"
     ]
    }
   ],
   "source": [
    "print(dataset.describe())"
   ]
  },
  {
   "cell_type": "code",
   "execution_count": 38,
   "id": "4fb7e4fe",
   "metadata": {},
   "outputs": [],
   "source": [
    "array = dataset.values\n",
    "X = array[:,:-1]\n",
    "y = array[:,-1]"
   ]
  },
  {
   "cell_type": "code",
   "execution_count": 39,
   "id": "816a1682",
   "metadata": {},
   "outputs": [
    {
     "name": "stdout",
     "output_type": "stream",
     "text": [
      "[['377.jpg']\n",
      " ['17814.jpg']\n",
      " ['21283.jpg']\n",
      " ...\n",
      " ['19663.jpg']\n",
      " ['10132.jpg']\n",
      " ['9896.jpg']]\n"
     ]
    }
   ],
   "source": [
    "print(X)"
   ]
  },
  {
   "cell_type": "code",
   "execution_count": 40,
   "id": "792d1a89",
   "metadata": {},
   "outputs": [
    {
     "name": "stdout",
     "output_type": "stream",
     "text": [
      "['MIDDLE' 'YOUNG' 'MIDDLE' ... 'MIDDLE' 'MIDDLE' 'MIDDLE']\n"
     ]
    }
   ],
   "source": [
    "print(y)"
   ]
  },
  {
   "cell_type": "code",
   "execution_count": 41,
   "id": "2e9af9b1",
   "metadata": {},
   "outputs": [],
   "source": [
    "X_train, X_test, y_train, y_test = train_test_split(X,y, test_size=0.40, random_state=1)"
   ]
  },
  {
   "cell_type": "code",
   "execution_count": 42,
   "id": "b6fc9bcb",
   "metadata": {},
   "outputs": [
    {
     "name": "stdout",
     "output_type": "stream",
     "text": [
      "[['21675.jpg']\n",
      " ['12012.jpg']\n",
      " ['13119.jpg']\n",
      " ...\n",
      " ['18041.jpg']\n",
      " ['10420.jpg']\n",
      " ['26315.jpg']]\n"
     ]
    }
   ],
   "source": [
    "print(X_train)"
   ]
  },
  {
   "cell_type": "code",
   "execution_count": 43,
   "id": "7eb1d3cd",
   "metadata": {},
   "outputs": [
    {
     "name": "stdout",
     "output_type": "stream",
     "text": [
      "['YOUNG' 'YOUNG' 'MIDDLE' ... 'OLD' 'OLD' 'OLD']\n"
     ]
    }
   ],
   "source": [
    "print(y_test)"
   ]
  },
  {
   "cell_type": "code",
   "execution_count": 48,
   "id": "4b506088",
   "metadata": {},
   "outputs": [
    {
     "data": {
      "text/plain": [
       "LogisticRegression(multi_class='warn', random_state=0, solver='liblinear')"
      ]
     },
     "execution_count": 48,
     "metadata": {},
     "output_type": "execute_result"
    }
   ],
   "source": [
    "LogisticRegression(C=1.0, class_weight=None, dual=False, fit_intercept=True,\n",
    "                   intercept_scaling=1, l1_ratio=None, max_iter=100,\n",
    "                   multi_class='warn', n_jobs=None, penalty='l2',\n",
    "                   random_state=0, solver='liblinear', tol=0.0001, verbose=0,\n",
    "                   warm_start=False)"
   ]
  },
  {
   "cell_type": "code",
   "execution_count": null,
   "id": "748ba13c",
   "metadata": {},
   "outputs": [],
   "source": []
  },
  {
   "cell_type": "code",
   "execution_count": null,
   "id": "fe3ebc99",
   "metadata": {},
   "outputs": [],
   "source": []
  }
 ],
 "metadata": {
  "kernelspec": {
   "display_name": "Python 3 (ipykernel)",
   "language": "python",
   "name": "python3"
  },
  "language_info": {
   "codemirror_mode": {
    "name": "ipython",
    "version": 3
   },
   "file_extension": ".py",
   "mimetype": "text/x-python",
   "name": "python",
   "nbconvert_exporter": "python",
   "pygments_lexer": "ipython3",
   "version": "3.9.7"
  }
 },
 "nbformat": 4,
 "nbformat_minor": 5
}
